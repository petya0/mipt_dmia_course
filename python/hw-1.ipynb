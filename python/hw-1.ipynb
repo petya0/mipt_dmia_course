{
 "cells": [
  {
   "cell_type": "markdown",
   "metadata": {},
   "source": [
    "# Homework \"Introduction to Python\""
   ]
  },
  {
   "cell_type": "markdown",
   "metadata": {},
   "source": [
    "## Python"
   ]
  },
  {
   "cell_type": "markdown",
   "metadata": {},
   "source": [
    "### 1. Fizzbuzz question"
   ]
  },
  {
   "cell_type": "code",
   "execution_count": null,
   "metadata": {
    "collapsed": true
   },
   "outputs": [],
   "source": [
    "for i in range(101):\n",
    "    if i % 15 == 0:\n",
    "        print('FizzBuzz')\n",
    "    elif i % 5 == 0:\n",
    "        print('Buzz')\n",
    "    elif i % 3 == 0:\n",
    "        print('Fizz')\n",
    "    else:\n",
    "        print(i)"
   ]
  },
  {
   "cell_type": "markdown",
   "metadata": {},
   "source": [
    "### 2. 100th Fibonacci number"
   ]
  },
  {
   "cell_type": "code",
   "execution_count": null,
   "metadata": {
    "collapsed": true
   },
   "outputs": [],
   "source": [
    "fib_a = 0 # the first\n",
    "fib_b = 1 # the second\n",
    "for _ in range(98):\n",
    "    fib_a, fib_b = fib_b, fib_a + fib_b\n",
    "print(fib_b)"
   ]
  },
  {
   "cell_type": "markdown",
   "metadata": {},
   "source": [
    "### 3. Quicksort - simple"
   ]
  },
  {
   "cell_type": "code",
   "execution_count": null,
   "metadata": {
    "collapsed": true
   },
   "outputs": [],
   "source": [
    "def partition(lst, start, end, pivot):\n",
    "    lst[pivot], lst[end] = lst[end], lst[pivot]\n",
    "    part_index = start\n",
    "    for i in range(start, end):\n",
    "        if lst[i] < lst[end]:\n",
    "            lst[i], lst[part_index] = lst[part_index], lst[i]\n",
    "            part_index += 1\n",
    "    lst[part_index], lst[end] = lst[end], lst[part_index]\n",
    "    return part_index\n",
    "\n",
    "\n",
    "def quick_sort(lst, start, end):\n",
    "    if start >= end:\n",
    "        return lst\n",
    "    pivot = start\n",
    "    new_pivot = partition(lst, start, end, pivot)\n",
    "    quick_sort(lst, start, new_pivot - 1)\n",
    "    quick_sort(lst, new_pivot + 1, end)\n",
    "\n",
    "\n",
    "def qsort(lst):\n",
    "    quick_sort(lst, 0, len(lst) - 1)\n",
    "    return lst"
   ]
  },
  {
   "cell_type": "markdown",
   "metadata": {},
   "source": [
    "### 4. Quicksort - 1 line"
   ]
  },
  {
   "cell_type": "code",
   "execution_count": null,
   "metadata": {
    "collapsed": true
   },
   "outputs": [],
   "source": [
    "qsort = lambda lst: [] if not lst else qsort(list(filter(lambda x: x < lst[0], lst[1:]))) + [lst[0]] + qsort(list(filter(lambda x: x >= lst[0], lst[1:])))"
   ]
  },
  {
   "cell_type": "markdown",
   "metadata": {},
   "source": [
    "## NumPy"
   ]
  },
  {
   "cell_type": "markdown",
   "metadata": {},
   "source": [
    "### 1. Three linspaces comparison"
   ]
  },
  {
   "cell_type": "code",
   "execution_count": null,
   "metadata": {
    "collapsed": true
   },
   "outputs": [
    {
     "name": "stdout",
     "output_type": "stream",
     "text": [
      "Results:\n",
      "linspace1, 10   - 3.693\n",
      "linspace2, 10   - 1.337\n",
      "linspace3, 10   - 1.321\n",
      "linspace1, 1000 - 5.169\n",
      "linspace2, 1000 - 93.221\n",
      "linspace3, 1000 - 91.212"
     ]
    }
   ],
   "source": [
    "import numpy as np\n",
    "import timeit as ti\n",
    "\n",
    "# using numpy\n",
    "def linspace1(start, stop, num):\n",
    "    return np.linspace(start, stop, num)\n",
    "\n",
    "# using simple loops\n",
    "def linspace2(start, stop, num):\n",
    "    step = (stop - start) / (num - 1)\n",
    "    result = []\n",
    "    for i in range(num):\n",
    "        result.append(start + i * step)\n",
    "    return result\n",
    "\n",
    "# using list comprehension\n",
    "def linspace3(start, stop, num):\n",
    "    return [start + i * (stop - start) / (num - 1) for i in range(num)]\n",
    "\n",
    "if __name__ == '__main__':\n",
    "    print(ti.timeit(\"linspace1(1, 10, 10)\", setup=\"from __main__ import linspace1\"))\n",
    "    print(ti.timeit(\"linspace2(1, 10, 10)\", setup=\"from __main__ import linspace2\"))\n",
    "    print(ti.timeit(\"linspace3(1, 10, 10)\", setup=\"from __main__ import linspace3\"))\n",
    "    print(ti.timeit(\"linspace1(1, 10, 1000)\", setup=\"from __main__ import linspace1\"))\n",
    "    print(ti.timeit(\"linspace2(1, 10, 1000)\", setup=\"from __main__ import linspace2\"))\n",
    "    print(ti.timeit(\"linspace3(1, 10, 1000)\", setup=\"from __main__ import linspace3\"))"
   ]
  },
  {
   "cell_type": "markdown",
   "metadata": {},
   "source": [
    "### 2. Base operations performance"
   ]
  },
  {
   "cell_type": "markdown",
   "metadata": {},
   "source": [
    "##### 2.1 Find max"
   ]
  },
  {
   "cell_type": "code",
   "execution_count": null,
   "metadata": {
    "collapsed": true
   },
   "outputs": [
    {
     "name": "stdout",
     "output_type": "stream",
     "text": [
      "Results:\n",
      "find_max_list,  10   - 0.272\n",
      "find_max_numpy, 10   - 1.316\n",
      "find_max_list,  1000 - 13.647\n",
      "find_max_numpy, 1000 - 2.152"
     ]
    }
   ],
   "source": [
    "import numpy as np\n",
    "import timeit as ti\n",
    "\n",
    "def find_max_list(lst):\n",
    "    return max(lst)\n",
    "\n",
    "def find_max_numpy(arr):\n",
    "    return arr.max()\n",
    "\n",
    "if __name__ == '__main__':\n",
    "    lst_small = [i for i in range(10)]\n",
    "    arr_small = np.array(lst_small)\n",
    "    lst_large = [i for i in range(1000)]\n",
    "    arr_large = np.array(lst_large)\n",
    "\n",
    "    print(ti.timeit(\"find_max_list(lst_small)\", setup=\"from __main__ import find_max_list, lst_small\"))\n",
    "    print(ti.timeit(\"find_max_numpy(arr_small)\", setup=\"from __main__ import find_max_numpy, arr_small\"))\n",
    "    print(ti.timeit(\"find_max_list(lst_large)\", setup=\"from __main__ import find_max_list, lst_large\"))\n",
    "    print(ti.timeit(\"find_max_numpy(arr_large)\", setup=\"from __main__ import find_max_numpy, arr_large\"))"
   ]
  },
  {
   "cell_type": "markdown",
   "metadata": {},
   "source": [
    "##### 2.2 Find sum"
   ]
  },
  {
   "cell_type": "code",
   "execution_count": null,
   "metadata": {
    "collapsed": true
   },
   "outputs": [
    {
     "name": "stdout",
     "output_type": "stream",
     "text": [
      "Results:\n",
      "find_sum_list,  10   - 0.223\n",
      "find_sum_numpy, 10   - 1.181\n",
      "find_sum_list,  1000 - 6.445\n",
      "find_sum_numpy, 1000 - 2.468"
     ]
    }
   ],
   "source": [
    "import numpy as np\n",
    "import timeit as ti\n",
    "\n",
    "def find_sum_list(lst):\n",
    "    return sum(lst)\n",
    "\n",
    "def find_sum_numpy(arr):\n",
    "    return arr.sum()\n",
    "\n",
    "if __name__ == '__main__':\n",
    "    lst_small = [i for i in range(10)]\n",
    "    arr_small = np.array(lst_small)\n",
    "    lst_large = [i for i in range(1000)]\n",
    "    arr_large = np.array(lst_large)\n",
    "\n",
    "    print(ti.timeit(\"find_sum_list(lst_small)\", setup=\"from __main__ import find_sum_list, lst_small\"))\n",
    "    print(ti.timeit(\"find_sum_numpy(arr_small)\", setup=\"from __main__ import find_sum_numpy, arr_small\"))\n",
    "    print(ti.timeit(\"find_sum_list(lst_large)\", setup=\"from __main__ import find_sum_list, lst_large\"))\n",
    "    print(ti.timeit(\"find_sum_numpy(arr_large)\", setup=\"from __main__ import find_sum_numpy, arr_large\"))"
   ]
  },
  {
   "cell_type": "markdown",
   "metadata": {},
   "source": [
    "##### 2.3 Sort"
   ]
  },
  {
   "cell_type": "code",
   "execution_count": null,
   "metadata": {
    "collapsed": true
   },
   "outputs": [
    {
     "name": "stdout",
     "output_type": "stream",
     "text": [
      "Results:\n",
      "sort_list,  10   - 0.403\n",
      "sort_numpy, 10   - 0.594\n",
      "sort_list,  1000 - 11.986\n",
      "sort_numpy, 1000 - 4.382"
     ]
    }
   ],
   "source": [
    "import numpy as np\n",
    "import timeit as ti\n",
    "\n",
    "def sort_list(lst):\n",
    "    return lst.sort()\n",
    "\n",
    "def sort_numpy(arr):\n",
    "    return arr.sort()\n",
    "\n",
    "if __name__ == '__main__':\n",
    "    lst_small = [i for i in range(10)]\n",
    "    arr_small = np.array(lst_small)\n",
    "    lst_large = [i for i in range(1000)]\n",
    "    arr_large = np.array(lst_large)\n",
    "\n",
    "    print(ti.timeit(\"sort_list(lst_small)\", setup=\"from __main__ import sort_list, lst_small\"))\n",
    "    print(ti.timeit(\"sort_numpy(arr_small)\", setup=\"from __main__ import sort_numpy, arr_small\"))\n",
    "    print(ti.timeit(\"sort_list(lst_large)\", setup=\"from __main__ import sort_list, lst_large\"))\n",
    "    print(ti.timeit(\"sort_numpy(arr_large)\", setup=\"from __main__ import sort_numpy, arr_large\"))"
   ]
  },
  {
   "cell_type": "markdown",
   "metadata": {},
   "source": [
    "## Matplotlib"
   ]
  },
  {
   "cell_type": "code",
   "execution_count": null,
   "metadata": {
    "collapsed": true
   },
   "outputs": [],
   "source": [
    "import numpy as np\n",
    "import matplotlib.pyplot as plt"
   ]
  },
  {
   "cell_type": "markdown",
   "metadata": {},
   "source": [
    "### 1. Draw three elementary functions"
   ]
  },
  {
   "cell_type": "code",
   "execution_count": null,
   "metadata": {
    "collapsed": true
   },
   "outputs": [],
   "source": [
    "fig, axes = plt.subplots(1, 2)\n",
    "\n",
    "x1 = np.arange(-2.0, 2.0, 0.01)\n",
    "\n",
    "y1_sin = np.sin(2 * np.pi * x1)\n",
    "y1_abs = np.abs(x1)\n",
    "y1_exp = np.exp(x1)\n",
    "\n",
    "axes[0].plot(x1, y1_sin, label='sin')\n",
    "axes[0].plot(x1, y1_abs, label='abs')\n",
    "axes[0].plot(x1, y1_exp, label='exp')"
   ]
  },
  {
   "cell_type": "markdown",
   "metadata": {},
   "source": [
    "### 2. Axes names and legend"
   ]
  },
  {
   "cell_type": "code",
   "execution_count": null,
   "metadata": {
    "collapsed": true
   },
   "outputs": [],
   "source": [
    "axes[0].set_xlabel('abscissa')\n",
    "axes[0].set_ylabel('ordinate')\n",
    "axes[0].legend()"
   ]
  },
  {
   "cell_type": "markdown",
   "metadata": {},
   "source": [
    "### 3. Additional graph with two functions"
   ]
  },
  {
   "cell_type": "code",
   "execution_count": null,
   "metadata": {
    "collapsed": true
   },
   "outputs": [],
   "source": [
    "x2 = np.arange(-2.0, 2.0, 0.01)\n",
    "\n",
    "y2_cos = np.cos(2 * np.pi * x2)\n",
    "y2_pow2 = np.abs(x2 * x2)\n",
    "\n",
    "axes[1].plot(x2, y2_cos)\n",
    "axes[1].plot(x2, y2_pow2)"
   ]
  },
  {
   "cell_type": "markdown",
   "metadata": {},
   "source": [
    "### 4. Save picture"
   ]
  },
  {
   "cell_type": "code",
   "execution_count": null,
   "metadata": {
    "collapsed": true
   },
   "outputs": [],
   "source": [
    "fig.savefig('my_graphs.png')"
   ]
  },
  {
   "cell_type": "markdown",
   "metadata": {},
   "source": [
    "## SciPy"
   ]
  },
  {
   "cell_type": "code",
   "execution_count": null,
   "metadata": {
    "collapsed": true
   },
   "outputs": [],
   "source": [
    "import numpy as np\n",
    "from scipy import linalg as la"
   ]
  },
  {
   "cell_type": "markdown",
   "metadata": {},
   "source": [
    "### 1. Normal distribution generator"
   ]
  },
  {
   "cell_type": "code",
   "execution_count": null,
   "metadata": {
    "collapsed": true
   },
   "outputs": [],
   "source": [
    "matrix = np.random.normal(0, 1, (5, 5))"
   ]
  },
  {
   "cell_type": "markdown",
   "metadata": {},
   "source": [
    "### 2. Eigenvalues and eigenvectors"
   ]
  },
  {
   "cell_type": "code",
   "execution_count": null,
   "metadata": {
    "collapsed": true
   },
   "outputs": [],
   "source": [
    "values, vectors = la.eig(matrix)"
   ]
  },
  {
   "cell_type": "markdown",
   "metadata": {},
   "source": [
    "### 3.1. Check eigenvalues"
   ]
  },
  {
   "cell_type": "code",
   "execution_count": null,
   "metadata": {
    "collapsed": true
   },
   "outputs": [],
   "source": [
    "fail = False\n",
    "for val in values:\n",
    "    determ = la.det(matrix - val * np.eye(5))\n",
    "    if la.norm(determ) > 0.000001:\n",
    "        fail = True\n",
    "        print('fail number')\n",
    "if not fail:\n",
    "    print('ok numbers')"
   ]
  },
  {
   "cell_type": "markdown",
   "metadata": {},
   "source": [
    "### 3.2. Check eigenvectors"
   ]
  },
  {
   "cell_type": "code",
   "execution_count": null,
   "metadata": {
    "collapsed": true
   },
   "outputs": [],
   "source": [
    "fail = False\n",
    "for i in range(len(vectors)):\n",
    "    vec = vectors[:,i]\n",
    "    delta = matrix.dot(vec) - vec * values[i]\n",
    "    if la.norm(delta) > 0.000001:\n",
    "        fail = True\n",
    "        print('fail vector')\n",
    "if not fail:\n",
    "    print('ok vectors')"
   ]
  }
 ],
 "metadata": {
  "kernelspec": {
   "display_name": "Python 3",
   "language": "python",
   "name": "python3"
  },
  "language_info": {
   "codemirror_mode": {
    "name": "ipython",
    "version": 3
   },
   "file_extension": ".py",
   "mimetype": "text/x-python",
   "name": "python",
   "nbconvert_exporter": "python",
   "pygments_lexer": "ipython3",
   "version": "3.5.1+"
  }
 },
 "nbformat": 4,
 "nbformat_minor": 1
}
